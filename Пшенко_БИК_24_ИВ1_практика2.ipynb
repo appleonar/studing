{
  "nbformat": 4,
  "nbformat_minor": 0,
  "metadata": {
    "colab": {
      "provenance": [],
      "authorship_tag": "ABX9TyMMFpWHdsdfqTLAiqQxNGwl",
      "include_colab_link": true
    },
    "kernelspec": {
      "name": "python3",
      "display_name": "Python 3"
    },
    "language_info": {
      "name": "python"
    }
  },
  "cells": [
    {
      "cell_type": "markdown",
      "metadata": {
        "id": "view-in-github",
        "colab_type": "text"
      },
      "source": [
        "<a href=\"https://colab.research.google.com/github/appleonar/studing/blob/main/%D0%9F%D1%88%D0%B5%D0%BD%D0%BA%D0%BE_%D0%91%D0%98%D0%9A_24_%D0%98%D0%921_%D0%BF%D1%80%D0%B0%D0%BA%D1%82%D0%B8%D0%BA%D0%B02.ipynb\" target=\"_parent\"><img src=\"https://colab.research.google.com/assets/colab-badge.svg\" alt=\"Open In Colab\"/></a>"
      ]
    },
    {
      "cell_type": "markdown",
      "source": [
        "есть прямоугольный треугольник, известно 2 стороны, найти его площадь"
      ],
      "metadata": {
        "id": "-JJNOEFLEejJ"
      }
    },
    {
      "cell_type": "code",
      "execution_count": 3,
      "metadata": {
        "colab": {
          "base_uri": "https://localhost:8080/"
        },
        "id": "LyrmIV9cAQIS",
        "outputId": "b7e5c0ee-a228-488b-9766-65ca2d4356e3"
      },
      "outputs": [
        {
          "output_type": "stream",
          "name": "stdout",
          "text": [
            "Площадь треугольника = 12\n"
          ]
        }
      ],
      "source": [
        "leg1=3\n",
        "leg2=4\n",
        "s=(leg1*leg2)/2\n",
        "print('Площадь треугольника =', s)"
      ]
    },
    {
      "cell_type": "code",
      "source": [
        "hypotenuse=5\n",
        "leg1=3\n",
        "leg2=int((hypotenuse**2-leg1**2)**1/2)\n",
        "s=int(leg1*leg2/2)\n",
        "print(s)"
      ],
      "metadata": {
        "colab": {
          "base_uri": "https://localhost:8080/"
        },
        "id": "ThU824niFmXw",
        "outputId": "11fb5f15-f2df-47a5-ae41-e000205ab86c"
      },
      "execution_count": 8,
      "outputs": [
        {
          "output_type": "stream",
          "name": "stdout",
          "text": [
            "12\n"
          ]
        }
      ]
    },
    {
      "cell_type": "markdown",
      "source": [
        "дано целое, трезхначное число, выписать его цифры на каждой строке, нельзя использовать срезы и циклы, только арифметические операции"
      ],
      "metadata": {
        "id": "j72vZNOFHfqp"
      }
    },
    {
      "cell_type": "code",
      "source": [
        "a=512\n",
        "b=a//100\n",
        "c=(a//10)%10\n",
        "d=a%10\n",
        "print(b)\n",
        "print(c)\n",
        "print(d)"
      ],
      "metadata": {
        "colab": {
          "base_uri": "https://localhost:8080/"
        },
        "id": "L7VYpit0JTw7",
        "outputId": "054a1365-fd90-4e28-decc-a6ed89863aaa"
      },
      "execution_count": 19,
      "outputs": [
        {
          "output_type": "stream",
          "name": "stdout",
          "text": [
            "5\n",
            "1\n",
            "2\n"
          ]
        }
      ]
    },
    {
      "cell_type": "code",
      "source": [
        "n=5812\n",
        "m1=5812//60\n",
        "s=5812-(m1*60)\n",
        "h=m1//60\n",
        "m2=m1-(h*60)\n",
        "time=f'{h}:{m2}:{s}'\n",
        "print(f'Сейчас {time} времени')\n"
      ],
      "metadata": {
        "colab": {
          "base_uri": "https://localhost:8080/"
        },
        "id": "AhzuRQIfLGXJ",
        "outputId": "5ac7a7a9-569b-409e-bbbe-619a9567405b"
      },
      "execution_count": 22,
      "outputs": [
        {
          "output_type": "stream",
          "name": "stdout",
          "text": [
            "Сейчас 1:36:52 времени\n"
          ]
        }
      ]
    }
  ]
}