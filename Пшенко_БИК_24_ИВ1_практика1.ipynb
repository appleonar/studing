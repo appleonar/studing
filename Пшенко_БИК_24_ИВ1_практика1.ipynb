{
  "nbformat": 4,
  "nbformat_minor": 0,
  "metadata": {
    "colab": {
      "provenance": [],
      "authorship_tag": "ABX9TyNmlPFvAEb0wo2H6P5GqXx5",
      "include_colab_link": true
    },
    "kernelspec": {
      "name": "python3",
      "display_name": "Python 3"
    },
    "language_info": {
      "name": "python"
    }
  },
  "cells": [
    {
      "cell_type": "markdown",
      "metadata": {
        "id": "view-in-github",
        "colab_type": "text"
      },
      "source": [
        "<a href=\"https://colab.research.google.com/github/appleonar/studing/blob/main/%D0%9F%D1%88%D0%B5%D0%BD%D0%BA%D0%BE_%D0%91%D0%98%D0%9A_24_%D0%98%D0%921_%D0%BF%D1%80%D0%B0%D0%BA%D1%82%D0%B8%D0%BA%D0%B01.ipynb\" target=\"_parent\"><img src=\"https://colab.research.google.com/assets/colab-badge.svg\" alt=\"Open In Colab\"/></a>"
      ]
    },
    {
      "cell_type": "markdown",
      "source": [
        "# `код 1`"
      ],
      "metadata": {
        "id": "Fk73UwtqwO79"
      }
    },
    {
      "cell_type": "code",
      "execution_count": null,
      "metadata": {
        "colab": {
          "base_uri": "https://localhost:8080/"
        },
        "id": "6uK9OFurnTe2",
        "outputId": "48c467f9-d22f-435b-910f-55ce02096219"
      },
      "outputs": [
        {
          "output_type": "stream",
          "name": "stdout",
          "text": [
            "первая пара\n"
          ]
        }
      ],
      "source": [
        "print('первая пара')"
      ]
    },
    {
      "cell_type": "code",
      "source": [
        "a=15\n",
        "b=100\n",
        "print(a, '\\n', b)"
      ],
      "metadata": {
        "colab": {
          "base_uri": "https://localhost:8080/"
        },
        "id": "XOtAN1-6uN4p",
        "outputId": "82889bf8-355c-4e14-e566-0cb40a2cf16d"
      },
      "execution_count": null,
      "outputs": [
        {
          "output_type": "stream",
          "name": "stdout",
          "text": [
            "15 \n",
            " 100\n"
          ]
        }
      ]
    },
    {
      "cell_type": "code",
      "source": [
        "a=1\n",
        "b=2\n",
        "c=a+b\n",
        "print(c)\n",
        "print(a+b)"
      ],
      "metadata": {
        "colab": {
          "base_uri": "https://localhost:8080/"
        },
        "id": "VnOQPsVHnzip",
        "outputId": "a7e94c1c-10a7-41cd-ef35-52fd77189938"
      },
      "execution_count": null,
      "outputs": [
        {
          "output_type": "stream",
          "name": "stdout",
          "text": [
            "3\n",
            "3\n"
          ]
        }
      ]
    }
  ]
}