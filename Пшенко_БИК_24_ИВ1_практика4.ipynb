{
  "nbformat": 4,
  "nbformat_minor": 0,
  "metadata": {
    "colab": {
      "provenance": [],
      "authorship_tag": "ABX9TyNFVU5Q9RMFLkbzwkPv0Mma",
      "include_colab_link": true
    },
    "kernelspec": {
      "name": "python3",
      "display_name": "Python 3"
    },
    "language_info": {
      "name": "python"
    }
  },
  "cells": [
    {
      "cell_type": "markdown",
      "metadata": {
        "id": "view-in-github",
        "colab_type": "text"
      },
      "source": [
        "<a href=\"https://colab.research.google.com/github/appleonar/studing/blob/%D0%BB%D0%B0%D0%B1%D0%BE%D1%80%D0%B0%D1%82%D0%BE%D1%80%D0%BD%D1%8B%D0%B5/%D0%9F%D1%88%D0%B5%D0%BD%D0%BA%D0%BE_%D0%91%D0%98%D0%9A_24_%D0%98%D0%921_%D0%BF%D1%80%D0%B0%D0%BA%D1%82%D0%B8%D0%BA%D0%B04.ipynb\" target=\"_parent\"><img src=\"https://colab.research.google.com/assets/colab-badge.svg\" alt=\"Open In Colab\"/></a>"
      ]
    },
    {
      "cell_type": "markdown",
      "source": [
        "задача 1"
      ],
      "metadata": {
        "id": "ISDrQbPCK5qv"
      }
    },
    {
      "cell_type": "code",
      "execution_count": 5,
      "metadata": {
        "id": "yWByzjMQC4Xf",
        "colab": {
          "base_uri": "https://localhost:8080/"
        },
        "outputId": "d78b9628-18e9-464d-af3c-9d2a732221fe"
      },
      "outputs": [
        {
          "output_type": "stream",
          "name": "stdout",
          "text": [
            "Введите код ошибки от 400 до 410: 410\n",
            "410 — «Запрошенный ресурс отсутствует и не будет возвращён» (Gone). \n",
            "Подобен коду 404 «Не найден», за исключением того, что код статуса 410 указывает, что данный статус ожидается на постоянной основе.\n"
          ]
        }
      ],
      "source": [
        "error=input('Введите код ошибки от 400 до 410: ')\n",
        "match error:\n",
        "  case '400':\n",
        "    print('400 — «Неверный запрос» (Bad Request). \\nСервер обнаружил в запросе клиента синтаксическую ошибку.')\n",
        "  case '401':\n",
        "    print('401 — «Неавторизованный запрос» (Unauthorized). \\nДля доступа к запрашиваемому ресурсу требуется аутентификация.')\n",
        "  case '403':\n",
        "    print('403 — «Доступ к ресурсу запрещён» (Forbidden). \\nПользователь пытается открыть ресурс, для которого у него нет прав доступа.')\n",
        "  case '404':\n",
        "    print('404 — «Запрошенный ресурс не найден» (Not Found). \\nОзначает, что запрошенный ресурс не существует и сервер не знает, существовал ли он когда-либо.')\n",
        "  case '405':\n",
        "    print('405 — «Метод не разрешён» (Method Not Allowed). \\nГенерируется, когда хостинг-сервер поддерживает полученный метод, но целевой ресурс отсутствует.')\n",
        "  case '406':\n",
        "    print('406 — «Неприемлемый ответ» (Not Acceptable). \\nЗапрошенный ресурс способен генерировать только контент, неприемлемый в соответствии с заголовками Accept, отправленными в запросе.')\n",
        "  case '408':\n",
        "    print('408 — «Время ожидания сервером поступления остальной части запроса из браузера истекло» (Request Timeout). \\nГенерируется, когда сервер прерывает обработку после истечения времени ожидания полного запроса от браузера.')\n",
        "  case '410':\n",
        "    print('410 — «Запрошенный ресурс отсутствует и не будет возвращён» (Gone). \\nПодобен коду 404 «Не найден», за исключением того, что код статуса 410 указывает, что данный статус ожидается на постоянной основе.')"
      ]
    },
    {
      "cell_type": "markdown",
      "source": [
        "задача 2"
      ],
      "metadata": {
        "id": "h_TR0Of3NlTP"
      }
    },
    {
      "cell_type": "code",
      "source": [
        "x=int(input('Введите координату x: '))\n",
        "y=int(input('Введите координату y: '))\n",
        "if x>0 and y>0:\n",
        "  print('Точка лежит в первой четверти')\n",
        "if x<0 and y>0:\n",
        "  print('Точка лежит во второй четверти')\n",
        "if x<0 and y<0:\n",
        "  print('Точка лежит в третьей четверти')\n",
        "if x>0 and y<0:\n",
        "  print('Точка лежит в четвертой четверти')"
      ],
      "metadata": {
        "colab": {
          "base_uri": "https://localhost:8080/"
        },
        "id": "AyqiZovGNm9X",
        "outputId": "9ef1c9c0-99d6-4a5f-b229-cc960807f83c"
      },
      "execution_count": 7,
      "outputs": [
        {
          "output_type": "stream",
          "name": "stdout",
          "text": [
            "Введите координату x: -25\n",
            "Введите координату y: 34\n",
            "Точка лежит во второй четверти\n"
          ]
        }
      ]
    },
    {
      "cell_type": "markdown",
      "source": [
        "задача 3"
      ],
      "metadata": {
        "id": "wwipt0zdPZjb"
      }
    },
    {
      "cell_type": "code",
      "source": [
        "year=int(input('Введите год: '))\n",
        "if year%4==0:\n",
        "  print('ДА')\n",
        "elif str(year)[-1]==0 and str(year)[-1]==0 and year%400==0:\n",
        "  print('ДА')\n",
        "else: print('НЕТ')\n"
      ],
      "metadata": {
        "colab": {
          "base_uri": "https://localhost:8080/"
        },
        "id": "zPa7wVIlPcGn",
        "outputId": "e7ef023f-2753-4dd5-ffc8-fcdac9c7bda9"
      },
      "execution_count": 15,
      "outputs": [
        {
          "output_type": "stream",
          "name": "stdout",
          "text": [
            "Введите год: 1700\n",
            "ДА\n"
          ]
        }
      ]
    }
  ]
}