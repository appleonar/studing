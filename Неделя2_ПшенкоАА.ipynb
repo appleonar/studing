{
  "nbformat": 4,
  "nbformat_minor": 0,
  "metadata": {
    "colab": {
      "provenance": [],
      "authorship_tag": "ABX9TyOQffqr5ScHIpR9OvwuKTfs",
      "include_colab_link": true
    },
    "kernelspec": {
      "name": "python3",
      "display_name": "Python 3"
    },
    "language_info": {
      "name": "python"
    }
  },
  "cells": [
    {
      "cell_type": "markdown",
      "metadata": {
        "id": "view-in-github",
        "colab_type": "text"
      },
      "source": [
        "<a href=\"https://colab.research.google.com/github/appleonar/studing/blob/%D0%B4%D0%BE%D0%BC%D0%B0%D1%88%D0%BD%D0%B8%D0%B5-%D0%B7%D0%B0%D0%B4%D0%B0%D0%BD%D0%B8%D1%8F/%D0%9D%D0%B5%D0%B4%D0%B5%D0%BB%D1%8F2_%D0%9F%D1%88%D0%B5%D0%BD%D0%BA%D0%BE%D0%90%D0%90.ipynb\" target=\"_parent\"><img src=\"https://colab.research.google.com/assets/colab-badge.svg\" alt=\"Open In Colab\"/></a>"
      ]
    },
    {
      "cell_type": "markdown",
      "source": [
        "Задача №1"
      ],
      "metadata": {
        "id": "FbE2NpfjgUD4"
      }
    },
    {
      "cell_type": "code",
      "source": [
        "leg1=int(input('Введите первый катет:'))\n",
        "leg2=int(input('Введите второй катет:'))\n",
        "hypotenuse=int((leg1**2+leg2**2)**(1/2))\n",
        "print(f'Гипотенуза такого треугольника равна {hypotenuse}')"
      ],
      "metadata": {
        "colab": {
          "base_uri": "https://localhost:8080/"
        },
        "id": "WQxjnbSqgdhO",
        "outputId": "42c26c89-3009-45eb-f4cf-c573d6136249"
      },
      "execution_count": null,
      "outputs": [
        {
          "output_type": "stream",
          "name": "stdout",
          "text": [
            "Введите первый катет:3\n",
            "Введите второй катет:4\n",
            "Гипотенуза такого треугольника равна 5\n"
          ]
        }
      ]
    },
    {
      "cell_type": "markdown",
      "source": [
        "Задача №2"
      ],
      "metadata": {
        "id": "TlXB3gxniR7h"
      }
    },
    {
      "cell_type": "code",
      "source": [
        "number=int(input('Введите число не больше 10000: '))\n",
        "print(f'The next number for the number {number} is {number+1}.')\n",
        "print(f'The previous number for the number {number} is {number-1}.')"
      ],
      "metadata": {
        "id": "2DVh1BVJiVg8",
        "colab": {
          "base_uri": "https://localhost:8080/"
        },
        "outputId": "e806cca0-8366-4e3e-f206-c84ed1c01277"
      },
      "execution_count": null,
      "outputs": [
        {
          "output_type": "stream",
          "name": "stdout",
          "text": [
            "Введите число: 5\n",
            "The next number for the number 5 is 6.\n",
            "The previous number for the number 5 is 4.\n"
          ]
        }
      ]
    },
    {
      "cell_type": "markdown",
      "source": [
        "Задача №3"
      ],
      "metadata": {
        "id": "qZV5xY2IIOh_"
      }
    },
    {
      "cell_type": "code",
      "source": [
        "number=input('Введите четырехзначное число для проверки четности: ')\n",
        "if len(number)==4 and number[0]==number[-1] and number[1]==number[-2]:\n",
        "  print(1)\n",
        "else:\n",
        "  print(5)"
      ],
      "metadata": {
        "colab": {
          "base_uri": "https://localhost:8080/"
        },
        "id": "CHTGVW9SAGfx",
        "outputId": "9e97b0a5-0fb4-49f0-f6fc-cb10177641f7"
      },
      "execution_count": null,
      "outputs": [
        {
          "output_type": "stream",
          "name": "stdout",
          "text": [
            "Введите четырехзначное число для проверки четности: 1221\n",
            "1\n"
          ]
        }
      ]
    },
    {
      "cell_type": "markdown",
      "source": [
        "Задача №4"
      ],
      "metadata": {
        "id": "XXoS1mBgIUeh"
      }
    },
    {
      "cell_type": "code",
      "source": [
        "h=int(input('Введите длину шеста: '))\n",
        "a=int(input('Введите высоту, на которую поднимается улитка за день: '))\n",
        "b=int(input('Введите высоту, на которую сползает улитка за ночь(обязательно меньше подъема): '))\n",
        "metres_per_day=a-b\n",
        "days=h//metres_per_day\n",
        "if h%metres_per_day!=0: days+=1\n",
        "print(f'Улитка приползет наверх на {days} день.')"
      ],
      "metadata": {
        "id": "-nN_ABlLIWwf",
        "colab": {
          "base_uri": "https://localhost:8080/"
        },
        "outputId": "6239a098-b6fc-4d2b-d63e-71b3f8c6a133"
      },
      "execution_count": null,
      "outputs": [
        {
          "output_type": "stream",
          "name": "stdout",
          "text": [
            "Введите длину шеста: 20\n",
            "Введите высоту, на которую поднимается улитка за день: 4\n",
            "Введите высоту, на которую сползает улитка за ночь(обязательно меньше подъема): 1\n",
            "Улитка приползет наверх на 7 день.\n"
          ]
        }
      ]
    },
    {
      "cell_type": "markdown",
      "source": [
        "Задача №5"
      ],
      "metadata": {
        "id": "AN5e3DpiOmja"
      }
    },
    {
      "cell_type": "code",
      "source": [
        "n=int(input('Введите число, не больше 86400: '))\n",
        "m1=n//60\n",
        "s=n-(m1*60)\n",
        "h=m1//60\n",
        "m2=m1-(h*60)\n",
        "if s<10:\n",
        "  s=str(s).zfill(2)\n",
        "if m2<10:\n",
        "  m2=str(m2).zfill(2)\n",
        "print(f'Сейчас {h}:{m2}:{s} времени')"
      ],
      "metadata": {
        "colab": {
          "base_uri": "https://localhost:8080/"
        },
        "id": "94NR6DhEtcX7",
        "outputId": "3b8ff6d7-7ddc-4b2e-adc3-3c6c57312b34"
      },
      "execution_count": 7,
      "outputs": [
        {
          "output_type": "stream",
          "name": "stdout",
          "text": [
            "Введите число, не больше 86400: 0\n",
            "Сейчас 0:00:00 времени\n"
          ]
        }
      ]
    },
    {
      "cell_type": "markdown",
      "source": [
        "Задача №6"
      ],
      "metadata": {
        "id": "fFBdic-12Hlp"
      }
    },
    {
      "cell_type": "code",
      "source": [
        "h1=int(input('Введите число меньше 24: '))\n",
        "m1=int(input('Введите число меньше 60: '))\n",
        "s1=int(input('Введите число меньше 60: '))\n",
        "h2=int(input('Введите число меньше первого: '))\n",
        "m2=int(input('Введите число меньше 60: '))\n",
        "s2=int(input('Введите число меньше 60: '))\n",
        "print(f'Первое время: {h1}:{m1}:{s1}, второе время: {h2}:{m2}:{s2}')\n",
        "all_seconds1=(h1*60+m1)*60+s1\n",
        "all_seconds2=(h2*60+m2)*60+s2\n",
        "print(f'Между ними прошло {all_seconds1-all_seconds2} секунд')"
      ],
      "metadata": {
        "colab": {
          "base_uri": "https://localhost:8080/"
        },
        "id": "a1PaoHBa0qIt",
        "outputId": "75006a7a-6fef-41ac-cab1-d5a4380c2ab3"
      },
      "execution_count": 9,
      "outputs": [
        {
          "output_type": "stream",
          "name": "stdout",
          "text": [
            "Введите число меньше 24: 23\n",
            "Введите число меньше 60: 59\n",
            "Введите число меньше 60: 24\n",
            "Введите число меньше первого: 12\n",
            "Введите число меньше 60: 24\n",
            "Введите число меньше 60: 55\n",
            "Первое время: 23:59:24, второе время: 12:24:55\n",
            "Между ними прошло 41669 секунд\n"
          ]
        }
      ]
    },
    {
      "cell_type": "markdown",
      "source": [
        "Задача №7"
      ],
      "metadata": {
        "id": "XHP9Dxz52Tc0"
      }
    },
    {
      "cell_type": "code",
      "source": [
        "a=int(input('Введите первое число: '))\n",
        "b=int(input('Введите второе число: '))\n",
        "a=a+b\n",
        "b=a-b\n",
        "a=a-b\n",
        "print(f'Первое число - {a}, второе число - {b}')"
      ],
      "metadata": {
        "colab": {
          "base_uri": "https://localhost:8080/"
        },
        "id": "1oS1_ZbG2WAS",
        "outputId": "85293415-799d-406f-e7cd-71c23bb20207"
      },
      "execution_count": 3,
      "outputs": [
        {
          "output_type": "stream",
          "name": "stdout",
          "text": [
            "Введите первое число: 5\n",
            "Введите второе число: 10\n",
            "Первое число - 10, второе число - 5\n"
          ]
        }
      ]
    },
    {
      "cell_type": "markdown",
      "source": [
        "Задача №8"
      ],
      "metadata": {
        "id": "fh2VzU2U5GAf"
      }
    },
    {
      "cell_type": "code",
      "source": [
        "n=int(input('Количество школьников:'))\n",
        "k=int(input('Количество яблок:'))\n",
        "print(f'У {k%n} школьников будет меньше яблок, чем у остальных')\n"
      ],
      "metadata": {
        "colab": {
          "base_uri": "https://localhost:8080/"
        },
        "id": "XzUA5dfg5E--",
        "outputId": "46eeec77-e4ff-4c03-ed46-483b9cbeee87"
      },
      "execution_count": null,
      "outputs": [
        {
          "output_type": "stream",
          "name": "stdout",
          "text": [
            "Количество школьников:3\n",
            "Количество яблок:14\n",
            "У 2 школьников будет меньше яблок, чем у остальных\n"
          ]
        }
      ]
    },
    {
      "cell_type": "markdown",
      "source": [
        "Задача №9"
      ],
      "metadata": {
        "id": "j3ub6R_z6ZP2"
      }
    },
    {
      "cell_type": "code",
      "source": [
        "number=input('Введите трехзначное число: ')\n",
        "sum=int(number[0])+int(number[1])+int(number[2])\n",
        "print(f'Сумма цифр данного числа равна {sum}')"
      ],
      "metadata": {
        "colab": {
          "base_uri": "https://localhost:8080/"
        },
        "id": "lzib2qP56cRw",
        "outputId": "f27dbd77-5a5c-4f3a-9322-466b6fc15feb"
      },
      "execution_count": 1,
      "outputs": [
        {
          "output_type": "stream",
          "name": "stdout",
          "text": [
            "Введите трехзначное число: 123\n",
            "Сумма цифр данного числа равна 6\n"
          ]
        }
      ]
    },
    {
      "cell_type": "code",
      "source": [
        "number=int(input('Введите трехзначное число: '))\n",
        "n1=number//100\n",
        "n2=(number//10)%10\n",
        "n3=number%10\n",
        "print(f'Сумма цифр данного сила равна {n1+n2+n3}')"
      ],
      "metadata": {
        "colab": {
          "base_uri": "https://localhost:8080/"
        },
        "id": "cSEJJ7_k76CR",
        "outputId": "619bffb8-0b29-4fd1-b6a2-e057d9172fb8"
      },
      "execution_count": 2,
      "outputs": [
        {
          "output_type": "stream",
          "name": "stdout",
          "text": [
            "Введите трехзначное число: 123\n",
            "Сумма цифр данного сила равна 6\n"
          ]
        }
      ]
    }
  ]
}