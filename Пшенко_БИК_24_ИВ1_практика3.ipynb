{
  "nbformat": 4,
  "nbformat_minor": 0,
  "metadata": {
    "colab": {
      "provenance": [],
      "authorship_tag": "ABX9TyOeiFnty6Q/HijKlR8c+HHy",
      "include_colab_link": true
    },
    "kernelspec": {
      "name": "python3",
      "display_name": "Python 3"
    },
    "language_info": {
      "name": "python"
    }
  },
  "cells": [
    {
      "cell_type": "markdown",
      "metadata": {
        "id": "view-in-github",
        "colab_type": "text"
      },
      "source": [
        "<a href=\"https://colab.research.google.com/github/appleonar/studing/blob/main/%D0%9F%D1%88%D0%B5%D0%BD%D0%BA%D0%BE_%D0%91%D0%98%D0%9A_24_%D0%98%D0%921_%D0%BF%D1%80%D0%B0%D0%BA%D1%82%D0%B8%D0%BA%D0%B03.ipynb\" target=\"_parent\"><img src=\"https://colab.research.google.com/assets/colab-badge.svg\" alt=\"Open In Colab\"/></a>"
      ]
    },
    {
      "cell_type": "markdown",
      "source": [
        "Задача №1"
      ],
      "metadata": {
        "id": "_RhQCJ_nJ2_f"
      }
    },
    {
      "cell_type": "code",
      "execution_count": 5,
      "metadata": {
        "colab": {
          "base_uri": "https://localhost:8080/"
        },
        "id": "AcWxPpNb_wTM",
        "outputId": "6ed7c79e-b8ff-4dfe-e69e-c0365c5e8ef8"
      },
      "outputs": [
        {
          "output_type": "stream",
          "name": "stdout",
          "text": [
            "4,3,2\n"
          ]
        }
      ],
      "source": [
        "a='abcd', 'dcb', 'cb'\n",
        "b=a[0]\n",
        "c=a[1]\n",
        "d=a[2]\n",
        "print(len(b), len(c), len(d), sep=',')"
      ]
    },
    {
      "cell_type": "code",
      "source": [
        "a=input('Введите 4 последовательности символов через запятую: ')\n",
        "a1=a.split(', ')\n",
        "b=a1[0]\n",
        "c=a1[1]\n",
        "d=a1[2]\n",
        "e=a1[3]\n",
        "print(len(b), len(c), len(d), len(e), sep=',')"
      ],
      "metadata": {
        "colab": {
          "base_uri": "https://localhost:8080/"
        },
        "id": "Vh5HO9pGIees",
        "outputId": "4646e765-491f-4f50-88c7-8d1952a8f02d"
      },
      "execution_count": 9,
      "outputs": [
        {
          "output_type": "stream",
          "name": "stdout",
          "text": [
            "Введите 4 последовательности символов через запятую: ghjj, fifhf, spdjfj, fhfhfh\n",
            "4,5,6,6\n"
          ]
        }
      ]
    },
    {
      "cell_type": "markdown",
      "source": [
        "так чуть правильнее"
      ],
      "metadata": {
        "id": "cFfcFVyVJjCH"
      }
    },
    {
      "cell_type": "code",
      "source": [
        "a=input('Введите 4 последовательности символов через запятую без пробелов: ')\n",
        "a1=a.split(',')\n",
        "b=a1[0]\n",
        "c=a1[1]\n",
        "d=a1[2]\n",
        "e=a1[3]\n",
        "print(len(b), len(c), len(d), len(e), sep=',')"
      ],
      "metadata": {
        "colab": {
          "base_uri": "https://localhost:8080/"
        },
        "id": "Q5EAoNTsJIY5",
        "outputId": "12d5ce81-5e00-4d54-908c-1c282939cd72"
      },
      "execution_count": 10,
      "outputs": [
        {
          "output_type": "stream",
          "name": "stdout",
          "text": [
            "Введите 4 последовательности символов через запятую без пробелов: asdf,ogogog,qwerty,lllkjhg\n",
            "4,6,6,7\n"
          ]
        }
      ]
    },
    {
      "cell_type": "markdown",
      "source": [
        "Задача №2"
      ],
      "metadata": {
        "id": "mIU9hvtqKA0A"
      }
    },
    {
      "cell_type": "code",
      "source": [
        "stroka='Привет, мир'\n",
        "n=8\n",
        "m=5\n",
        "stroka1=list(stroka[:n])\n",
        "stroka2=list(stroka[m:])\n",
        "print(stroka1,stroka2, sep=',')"
      ],
      "metadata": {
        "colab": {
          "base_uri": "https://localhost:8080/"
        },
        "id": "IGEjoeu_KH9K",
        "outputId": "b5054630-8e5e-4792-b544-7d1dc0e35ab1"
      },
      "execution_count": 26,
      "outputs": [
        {
          "output_type": "stream",
          "name": "stdout",
          "text": [
            "['П', 'р', 'и', 'в', 'е', 'т', ',', ' '],['т', ',', ' ', 'м', 'и', 'р']\n"
          ]
        }
      ]
    },
    {
      "cell_type": "code",
      "source": [
        "stroka='Привет, мир'\n",
        "n=8\n",
        "m=5\n",
        "stroka1=stroka.split(' ')\n",
        "print(stroka1)"
      ],
      "metadata": {
        "colab": {
          "base_uri": "https://localhost:8080/"
        },
        "id": "m7ilVIgVPS6i",
        "outputId": "2889809f-79d0-49dc-c5cc-38b7215e1c56"
      },
      "execution_count": 28,
      "outputs": [
        {
          "output_type": "stream",
          "name": "stdout",
          "text": [
            "['Привет,', 'мир']\n"
          ]
        }
      ]
    }
  ]
}